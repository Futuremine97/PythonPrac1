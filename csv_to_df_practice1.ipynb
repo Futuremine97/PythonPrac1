{
 "cells": [
  {
   "cell_type": "code",
   "execution_count": null,
   "id": "3d817e8f",
   "metadata": {},
   "outputs": [],
   "source": [
    "\n",
    "import csv\n",
    "import pandas as pd\n",
    "import numpy as np\n",
    "\n",
    "df = pd.read_csv('mei.csv')   \n",
    "df.describe()\n",
    "df.info()\n",
    "df.columns\n",
    "new_data2 = []\n",
    "\n",
    "for i in range(18):\n",
    "    print('sensor'+str(i))\n",
    "    new = 'sensor'+str(i)\n",
    "    new_data2.append(new)\n",
    "    \n",
    "\n",
    "\n",
    "new_data = ['sensor1','sensor2','sensor3','sensor4','sensor5','sensor6','sensor7','sensor8','sensor9','sensor10']\n",
    "\n",
    "\n",
    "timelist = ['sensor0',\n",
    "'sensor1',\n",
    "'sensor2',\n",
    "'sensor3',\n",
    "'sensor4',\n",
    "'sensor5',\n",
    "'sensor6',\n",
    "'sensor7',\n",
    "'sensor8',\n",
    "'sensor9',\n",
    "'sensor10',\n",
    "'sensor11',\n",
    "'sensor12',\n",
    "'sensor13',\n",
    "'sensor14',\n",
    "'sensor15',\n",
    "'sensor16',\n",
    "'sensor17']\n",
    "\n",
    "df = df.transpose()\n",
    "\n",
    "df = df.replace('Mei',np.nan)\n",
    "\n",
    "for x in range(18):\n",
    "    i =[1,2,3,4,5,6,7,8,9,10,11,12,13,14,15,16,17]\n",
    "    df = df.replace(np.nan, f'sensor{i}')\n",
    "\n",
    "\n",
    "df\n",
    "\n",
    "\n",
    "\n",
    "\n",
    "\n"
   ]
  }
 ],
 "metadata": {
  "kernelspec": {
   "display_name": "Python 3",
   "language": "python",
   "name": "python3"
  },
  "language_info": {
   "codemirror_mode": {
    "name": "ipython",
    "version": 3
   },
   "file_extension": ".py",
   "mimetype": "text/x-python",
   "name": "python",
   "nbconvert_exporter": "python",
   "pygments_lexer": "ipython3",
   "version": "3.8.8"
  }
 },
 "nbformat": 4,
 "nbformat_minor": 5
}
