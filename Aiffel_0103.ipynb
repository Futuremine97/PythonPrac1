{
 "cells": [
  {
   "cell_type": "code",
   "execution_count": 1,
   "id": "f063e679",
   "metadata": {},
   "outputs": [
    {
     "name": "stdout",
     "output_type": "stream",
     "text": [
      "4 99\n",
      "덧셈: 103, 뺄셈: -95, 곱셈: 396, 나눗셈: 0.04040404040404041\n"
     ]
    }
   ],
   "source": [
    "#29번 문제\n",
    "x, y = map(int, input().split())\n",
    "def calc(a, b):\n",
    "  return a+b, a-b, a*b, a/b\n",
    "a, s, m, d = calc(x, y)\n",
    "print('덧셈: {0}, 뺄셈: {1}, 곱셈: {2}, 나눗셈: {3}'.format(a, s, m, d))"
   ]
  },
  {
   "cell_type": "code",
   "execution_count": 3,
   "id": "b9337ea3",
   "metadata": {},
   "outputs": [
    {
     "name": "stdout",
     "output_type": "stream",
     "text": [
      "did\n",
      "noon\n",
      "refer\n"
     ]
    }
   ],
   "source": [
    "#30번문제\n",
    "\n",
    "with open ('words.txt', 'r') as file:\n",
    "    text = file.readlines()\n",
    "    for i in range(len(text)):# 0 ~ 6\n",
    "        a = list(text[i].strip('\\n')) # ['a', 'p', 'a', 'c', 'h', 'e']\n",
    "        b = list(reversed(text[i].strip('\\n'))) # ['e', 'h', 'c', 'a', 'p', 'a']\n",
    "        if a == b :\n",
    "            print(text[i].strip('\\n')) # 출력시 \\n 다시한번 삭제"
   ]
  },
  {
   "cell_type": "code",
   "execution_count": 4,
   "id": "441e369a",
   "metadata": {},
   "outputs": [
    {
     "name": "stdout",
     "output_type": "stream",
     "text": [
      "76 82 89 64\n",
      "{'korean': 76, 'english': 82, 'mathematics': 89, 'science': 64}\n",
      "낮은 점수: 64.00, 높은 점수: 89.00, 평균 점수: 77.75\n",
      "{'english': 82, 'science': 64}\n",
      "낮은 점수: 64.00, 높은 점수: 82.00, 평균 점수: 73.00\n"
     ]
    }
   ],
   "source": [
    "korean, english, mathematics, science = map(int, input().split())\n",
    "\n",
    "def get_min_max_score (*args):\n",
    "    return min(args), max(args)\n",
    "\n",
    "def get_average (**kwargs):\n",
    "    print(kwargs) ## {'korean': 89, 'english': 92, 'mathematics': 73, 'science': 83}\n",
    "    return sum(kwargs.values())/len(kwargs)  # 나누는 길이\n",
    "\n",
    "min_score, max_score = get_min_max_score(korean, english, mathematics, science)\n",
    "average_score = get_average(korean=korean, english=english,\n",
    "                              mathematics=mathematics, science=science)\n",
    "print('낮은 점수: {0:.2f}, 높은 점수: {1:.2f}, 평균 점수: {2:.2f}'\n",
    "      .format(min_score, max_score, average_score))\n",
    " \n",
    "min_score, max_score = get_min_max_score(english, science)\n",
    "average_score = get_average(english=english, science=science)\n",
    "print('낮은 점수: {0:.2f}, 높은 점수: {1:.2f}, 평균 점수: {2:.2f}'\n",
    "      .format(min_score, max_score, average_score))\n"
   ]
  },
  {
   "cell_type": "code",
   "execution_count": 5,
   "id": "f794543d",
   "metadata": {},
   "outputs": [
    {
     "name": "stdout",
     "output_type": "stream",
     "text": [
      "이제 7000원 남았네요.\n"
     ]
    }
   ],
   "source": [
    "class Person:\n",
    "    def __init__(self, name, age, address, wallet):\n",
    "        self.name = name\n",
    "        self.age = age\n",
    "        self.address = address\n",
    "        self.__wallet = wallet    # 변수 앞에 __를 붙여서 비공개 속성으로 만듦\n",
    " \n",
    "    def pay(self, amount):\n",
    "        self.__wallet -= amount   # 비공개 속성은 클래스 안의 메서드에서만 접근할 수 있음\n",
    "        print('이제 {0}원 남았네요.'.format(self.__wallet))\n",
    " \n",
    "maria = Person('마리아', 20, '서울시 서초구 반포동', 10000)\n",
    "maria.pay(3000)"
   ]
  },
  {
   "cell_type": "code",
   "execution_count": null,
   "id": "7435ca52",
   "metadata": {},
   "outputs": [],
   "source": [
    "files = input().split() # ['97.xlsx', '98.docx', '99.docx', '100.xlsx', '101.docx', '102.docx']\n",
    "\n",
    "a = list(map(lambda x : '{0:03d}'.format(int(x.split('.')[0]))+ '.' + x.split('.')[1], files))\n",
    "\n",
    "print(a)"
   ]
  },
  {
   "cell_type": "code",
   "execution_count": null,
   "id": "f9976ce0",
   "metadata": {},
   "outputs": [],
   "source": [
    "def fib (a):\n",
    "    if a < 2 :\n",
    "        return a \n",
    "    return fib(a-2) + fib(a-1)\n",
    "\n",
    "n = int(input())\n",
    "print(fib(b))"
   ]
  },
  {
   "cell_type": "code",
   "execution_count": null,
   "id": "d6616694",
   "metadata": {},
   "outputs": [],
   "source": [
    "class Knight:\n",
    "    def __init__(self, health, mana, armor):\n",
    "        self.health = health\n",
    "        self.mana = mana\n",
    "        self.armor = armor\n",
    " \n",
    "    def slash(self):\n",
    "        print('베기')\n",
    "        \n",
    "x = Knight(health=542.4, mana=210.3, armor=38)\n",
    "print(x.health, x.mana, x.armor)\n",
    "\n",
    "x.slash()\n"
   ]
  },
  {
   "cell_type": "code",
   "execution_count": null,
   "id": "dd8c232e",
   "metadata": {},
   "outputs": [],
   "source": []
  }
 ],
 "metadata": {
  "kernelspec": {
   "display_name": "Python 3",
   "language": "python",
   "name": "python3"
  },
  "language_info": {
   "codemirror_mode": {
    "name": "ipython",
    "version": 3
   },
   "file_extension": ".py",
   "mimetype": "text/x-python",
   "name": "python",
   "nbconvert_exporter": "python",
   "pygments_lexer": "ipython3",
   "version": "3.8.8"
  }
 },
 "nbformat": 4,
 "nbformat_minor": 5
}
