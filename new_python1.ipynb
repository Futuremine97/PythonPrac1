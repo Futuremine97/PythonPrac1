{
 "cells": [
  {
   "cell_type": "code",
   "execution_count": 35,
   "id": "3b6ae315",
   "metadata": {},
   "outputs": [
    {
     "name": "stdout",
     "output_type": "stream",
     "text": [
      "52,54,58,62,63,66,68,70,68,70,70,73,74,75,77,78,Mei\n",
      "65,68,66,68,71,74,74,76,72,74,74,75,76,77,80,80,조진호\n",
      "           sensor1   sensor2   sensor3   sensor4   sensor5   sensor6  \\\n",
      "sensor1   1.000000  0.997881  0.995104  0.996981  0.997243  0.998473   \n",
      "sensor2   0.997881  1.000000  0.994002  0.996576  0.997248  0.998177   \n",
      "sensor3   0.995104  0.994002  1.000000  0.996601  0.994538  0.994581   \n",
      "sensor4   0.996981  0.996576  0.996601  1.000000  0.996772  0.998181   \n",
      "sensor5   0.997243  0.997248  0.994538  0.996772  1.000000  0.997942   \n",
      "sensor6   0.998473  0.998177  0.994581  0.998181  0.997942  1.000000   \n",
      "sensor7   0.993394  0.992847  0.997860  0.994803  0.991883  0.992871   \n",
      "sensor8   0.995913  0.995625  0.993579  0.998413  0.994498  0.996857   \n",
      "sensor9   0.996733  0.993924  0.995870  0.997390  0.996558  0.996040   \n",
      "sensor10  0.993233  0.994240  0.993207  0.997619  0.993583  0.995430   \n",
      "sensor11  0.989308  0.989296  0.986582  0.992304  0.990494  0.990401   \n",
      "sensor12  0.987008  0.983315  0.984316  0.990527  0.984165  0.985713   \n",
      "sensor13  0.994268  0.990132  0.988313  0.994459  0.989595  0.993657   \n",
      "sensor14  0.987054  0.985518  0.987682  0.990987  0.987041  0.988177   \n",
      "sensor15  0.987742  0.984649  0.985761  0.991966  0.987992  0.988223   \n",
      "sensor16  0.975078  0.976250  0.975929  0.981651  0.974433  0.975757   \n",
      "\n",
      "           sensor7   sensor8   sensor9  sensor10  sensor11  sensor12  \\\n",
      "sensor1   0.993394  0.995913  0.996733  0.993233  0.989308  0.987008   \n",
      "sensor2   0.992847  0.995625  0.993924  0.994240  0.989296  0.983315   \n",
      "sensor3   0.997860  0.993579  0.995870  0.993207  0.986582  0.984316   \n",
      "sensor4   0.994803  0.998413  0.997390  0.997619  0.992304  0.990527   \n",
      "sensor5   0.991883  0.994498  0.996558  0.993583  0.990494  0.984165   \n",
      "sensor6   0.992871  0.996857  0.996040  0.995430  0.990401  0.985713   \n",
      "sensor7   1.000000  0.992243  0.994983  0.992581  0.986282  0.984906   \n",
      "sensor8   0.992243  1.000000  0.995470  0.997116  0.992339  0.992917   \n",
      "sensor9   0.994983  0.995470  1.000000  0.996110  0.994573  0.990707   \n",
      "sensor10  0.992581  0.997116  0.996110  1.000000  0.995668  0.990770   \n",
      "sensor11  0.986282  0.992339  0.994573  0.995668  1.000000  0.987995   \n",
      "sensor12  0.984906  0.992917  0.990707  0.990770  0.987995  1.000000   \n",
      "sensor13  0.987885  0.995404  0.992170  0.990524  0.984824  0.990608   \n",
      "sensor14  0.986775  0.990588  0.990906  0.992507  0.987820  0.987383   \n",
      "sensor15  0.985104  0.989317  0.993220  0.990098  0.988304  0.988060   \n",
      "sensor16  0.978148  0.984728  0.980802  0.981684  0.983111  0.982269   \n",
      "\n",
      "          sensor13  sensor14  sensor15  sensor16  \n",
      "sensor1   0.994268  0.987054  0.987742  0.975078  \n",
      "sensor2   0.990132  0.985518  0.984649  0.976250  \n",
      "sensor3   0.988313  0.987682  0.985761  0.975929  \n",
      "sensor4   0.994459  0.990987  0.991966  0.981651  \n",
      "sensor5   0.989595  0.987041  0.987992  0.974433  \n",
      "sensor6   0.993657  0.988177  0.988223  0.975757  \n",
      "sensor7   0.987885  0.986775  0.985104  0.978148  \n",
      "sensor8   0.995404  0.990588  0.989317  0.984728  \n",
      "sensor9   0.992170  0.990906  0.993220  0.980802  \n",
      "sensor10  0.990524  0.992507  0.990098  0.981684  \n",
      "sensor11  0.984824  0.987820  0.988304  0.983111  \n",
      "sensor12  0.990608  0.987383  0.988060  0.982269  \n",
      "sensor13  1.000000  0.989244  0.989368  0.978955  \n",
      "sensor14  0.989244  1.000000  0.988857  0.973793  \n",
      "sensor15  0.989368  0.988857  1.000000  0.978876  \n",
      "sensor16  0.978955  0.973793  0.978876  1.000000  \n"
     ]
    },
    {
     "data": {
      "image/png": "[encoded data removed]",
      "text/plain": [
       "<Figure size 432x288 with 2 Axes>"
      ]
     },
     "metadata": {
      "needs_background": "light"
     },
     "output_type": "display_data"
    }
   ],
   "source": [
    "import pandas as pd\n",
    "import numpy as np\n",
    "from sklearn import datasets\n",
    "import scipy.stats as stats\n",
    "import seaborn as sns\n",
    "import matplotlib.pyplot as plt\n",
    "\n",
    "with open(\"mei.csv\", 'r', encoding=\"utf-8\") as read_:\n",
    "    text=read_.readlines()\n",
    "\n",
    "rows=[]\n",
    "for i in text[1:]:\n",
    "    rows.append(list(map(int,i.split(\",\")[:-1])))\n",
    "print(i)\n",
    "\n",
    "df=pd.DataFrame(rows)\n",
    "df.columns=[\"sensor%d\"%i for i in range(1,17)]\n",
    "\n",
    "df.head(20)\n",
    "\n",
    "with open(\"조진호.csv\", 'r', encoding=\"utf-8\") as read_:\n",
    "    text2=read_.readlines()\n",
    "\n",
    "rows2=[]\n",
    "for i in text2[1:]:\n",
    "    rows2.append(list(map(int,i.split(\",\")[:-1])))\n",
    "print(i)\n",
    "\n",
    "df2=pd.DataFrame(rows2)\n",
    "df2.columns=[\"sensor%d\"%i for i in range(1,17)]\n",
    "\n",
    "df2.head(20)\n",
    "\n",
    "df['sensor1'].corr(df['sensor2'])\n",
    "\n",
    "# df2['sensor1'].corr(df2['sensor2'])\n",
    "corr = df.corr(method= 'pearson')\n",
    "print(corr)\n",
    "\n",
    "corr2 = df.corr()\n",
    "sns.heatmap(corr2, cmap='viridis')\n",
    "plt.show()"
   ]
  },
  {
   "cell_type": "code",
   "execution_count": null,
   "id": "35f2df13",
   "metadata": {},
   "outputs": [],
   "source": []
  }
 ],
 "metadata": {
  "kernelspec": {
   "display_name": "Python 3",
   "language": "python",
   "name": "python3"
  },
  "language_info": {
   "codemirror_mode": {
    "name": "ipython",
    "version": 3
   },
   "file_extension": ".py",
   "mimetype": "text/x-python",
   "name": "python",
   "nbconvert_exporter": "python",
   "pygments_lexer": "ipython3",
   "version": "3.8.8"
  }
 },
 "nbformat": 4,
 "nbformat_minor": 5
}
